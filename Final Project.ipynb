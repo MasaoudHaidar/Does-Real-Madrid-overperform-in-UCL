{
 "cells": [
  {
   "cell_type": "markdown",
   "id": "a6656e68",
   "metadata": {},
   "source": [
    "<a id=\"contents\"></a>\n",
    "\n",
    "# Notebook Contents\n",
    "\n",
    "- [1. Data Cleaning](#id1)\n",
    "    - [1.1 Clean the data for the seasons 2018-2020](#id1.1)\n",
    "    - [1.2 Clean the data for the seasons 2010-2017](#id1.2)\n",
    "    - [1.3 Helper function for reading the data](#id1.3)\n",
    "- [2. World Football Elo Ratings](#id2)\n",
    "    - [2.1 The System](#id2.1)\n",
    "    - [2.2 The code for the system](#id2.2)\n",
    "    - [2.3 Training on the first five seasons](#id2.3)\n",
    "    - [2.4 Recording for the next five seasons](#id2.4)\n",
    "- [3. Hypothesis Testing](#id3)\n",
    "    - [3.1 Performing a t-test](#id3.1)\n",
    "    - [3.2 Performing a permutation test](#id3.2)"
   ]
  },
  {
   "cell_type": "code",
   "execution_count": 1,
   "id": "a1e40f9a",
   "metadata": {},
   "outputs": [],
   "source": [
    "import numpy as np\n",
    "import pandas as pd\n",
    "import matplotlib.pyplot as plt\n",
    "import os\n",
    "from scipy import stats\n",
    "from tqdm import tqdm"
   ]
  },
  {
   "cell_type": "markdown",
   "id": "68382291",
   "metadata": {},
   "source": [
    "\n",
    "<a id=\"id1\"></a>\n",
    "\n",
    "# Part 1: Data Cleaning\n",
    "\n",
    "[Return to contents](#contents)\n",
    "\n",
    "The UCL and Europa League data are collected from different websites. This section reads the data and saves it in a format consistant with the rest of the data. \n",
    "\n",
    "Many team names are not consistent through all of the data. So, it is hard to go through each one and fix it. However, we manuallly checked the names of all the teams that played against Real Madrid in the knockout stages of the UCL between 2016 and 2020, as these are the games with highest stakes for this project. "
   ]
  },
  {
   "cell_type": "markdown",
   "id": "188ecaf9",
   "metadata": {},
   "source": [
    "<a id=\"id1.1\"></a>\n",
    "\n",
    "## 1.1 Clean the data for the seasons 2018-2020\n",
    "[Return to contents](#contents)\n",
    "\n",
    "Only run those once if you only have the raw data"
   ]
  },
  {
   "cell_type": "code",
   "execution_count": 2,
   "id": "9998b80d",
   "metadata": {},
   "outputs": [],
   "source": [
    "# Fix some team names\n",
    "\n",
    "def fix_team_names(s):\n",
    "    # Nans:\n",
    "    if type(s) != str:\n",
    "        return s\n",
    "    name_fixer = {\n",
    "        'FC Barcelona':'Barcelona',\n",
    "        'Paris Saint-Germain':'Paris SG',\n",
    "        'Bayern Munchen':'Bayern Munich',\n",
    "        'Manchester United':'Man United',\n",
    "        'Manchester Utd':'Man United',\n",
    "        'Manchester City':'Man City',\n",
    "        'Atletico Madrid':\"Ath Madrid\",\n",
    "        'Atlético Madrid':\"Ath Madrid\",\n",
    "        'VfL Wolfsburg':\"Wolfsburg\",\n",
    "        'AS Roma':'Roma',\n",
    "        'FC Porto': 'Porto',\n",
    "        'FC Basel':'Basel' \n",
    "    }\n",
    "    if s in name_fixer.keys():\n",
    "        return name_fixer[s]\n",
    "    return s"
   ]
  },
  {
   "cell_type": "code",
   "execution_count": 3,
   "id": "142df955",
   "metadata": {},
   "outputs": [],
   "source": [
    "clean = False\n",
    "if clean:\n",
    "    for year in ['2018', '2019', '2020']:\n",
    "        for competition in ['ucl', 'europa']:\n",
    "            df = pd.read_csv(f'data/raw/{year} {competition}.csv')\n",
    "\n",
    "            # Home team\n",
    "            def remove_suffix(s):\n",
    "                if type(s) != str:\n",
    "                    return s\n",
    "                lst = s.split()\n",
    "                new_string = ' '.join(lst[0:-1])\n",
    "                new_string = new_string.replace('-', '')\n",
    "                return new_string\n",
    "            df['HomeTeam'] = df['Home'].apply(remove_suffix)\n",
    "\n",
    "            # Away team\n",
    "            def remove_prefix(s):\n",
    "                if type(s) != str:\n",
    "                    return s\n",
    "                lst = s.split()\n",
    "                new_string = ' '.join(lst[1:])\n",
    "                new_string = new_string.replace('-', '')\n",
    "                return new_string\n",
    "            df['AwayTeam'] = df['Away'].apply(remove_prefix)\n",
    "            \n",
    "            # Fix some team names\n",
    "            df['HomeTeam'] = df['HomeTeam'].apply(fix_team_names)\n",
    "            df['AwayTeam'] = df['AwayTeam'].apply(fix_team_names)\n",
    "\n",
    "            # Scores\n",
    "            def get_score(s, is_home):\n",
    "                # is_home = is_home_tuple[0]\n",
    "                if type(s)!=str:\n",
    "                    return s\n",
    "                lst = s.split('–')\n",
    "                if is_home:\n",
    "                    return int(lst[0])\n",
    "                else:\n",
    "                    return int(lst[1])\n",
    "            df['FTHG'] = df['Score'].apply(get_score, args = [True])\n",
    "            df['FTAG'] = df['Score'].apply(get_score, args = [False])\n",
    "            df['is_group_stage'] = df['Round']=='Group stage'\n",
    "            df = df[['HomeTeam', 'AwayTeam', 'FTHG', 'FTAG', 'is_group_stage']]\n",
    "            df.to_csv(f'data/{competition}/{year}.csv', index = False)"
   ]
  },
  {
   "cell_type": "markdown",
   "id": "9f7a69bd",
   "metadata": {},
   "source": [
    "<a id=\"id1.2\"></a>\n",
    "\n",
    "## 1.2 Clean the data for the seasons 2010-2017\n",
    "\n",
    "[Return to contents](#contents)"
   ]
  },
  {
   "cell_type": "code",
   "execution_count": 4,
   "id": "4717bc51",
   "metadata": {},
   "outputs": [],
   "source": [
    "if clean:\n",
    "    years = [x for x in range(2011, 2018)]\n",
    "    df = pd.read_csv('data/raw/euroties_WithCountries.csv')\n",
    "    for year in years:\n",
    "        for competition, competition_name in zip(['ucl', 'europa'], ['CHAMPIONS LEAGUE', 'EUROPA LEAGUE']):\n",
    "            # select season and competition\n",
    "            cur_df = df.loc[(df['Season'] == year) & (df['Competition Name'] == competition_name)].copy()\n",
    "\n",
    "            # Change column names HomeGoals\tAwayGoals\n",
    "            cur_df['FTHG'] = cur_df['HomeGoals']\n",
    "            cur_df['FTAG'] = cur_df['AwayGoals']\n",
    "\n",
    "            cur_df['HomeTeam'] = cur_df['HomeTeam'].apply(fix_team_names)\n",
    "            cur_df['AwayTeam'] = cur_df['AwayTeam'].apply(fix_team_names)\n",
    "\n",
    "            # check if in group or qualifying stage\n",
    "            def is_group_stage(s):\n",
    "                if 'Qualifying' in s or 'Group' in s:\n",
    "                    return True\n",
    "                return False\n",
    "            cur_df['is_group_stage'] = cur_df['Stage'].apply(is_group_stage)\n",
    "            cur_df = cur_df[['HomeTeam', 'AwayTeam', 'FTHG', 'FTAG', 'is_group_stage']]\n",
    "            cur_df.to_csv(f'data/{competition}/{str(year)}.csv', index = False)"
   ]
  },
  {
   "cell_type": "markdown",
   "id": "9bbd25d0",
   "metadata": {},
   "source": [
    "<a id=\"id1.3\"></a>\n",
    "\n",
    "## 1.3 Helper function for reading the data\n",
    "\n",
    "[Return to contents](#contents)\n"
   ]
  },
  {
   "cell_type": "code",
   "execution_count": 5,
   "id": "1441cfd4",
   "metadata": {},
   "outputs": [],
   "source": [
    "leagues = ['england', 'france', 'germany', 'italy', 'netherlands', 'portugal', 'spain', 'ucl', 'europa']"
   ]
  },
  {
   "cell_type": "code",
   "execution_count": 6,
   "id": "7056072b",
   "metadata": {},
   "outputs": [],
   "source": [
    "def read_data(competition, year):\n",
    "    \"\"\"\n",
    "        year (int): a year between 0 (2010-2011) and 9 (2019-2020)\n",
    "        competition (string): one of the top 7 leagues or ucl\n",
    "    \"\"\"\n",
    "    year_dir = os.listdir(f'data/{competition}')[year]\n",
    "    df = pd.read_csv(f'data/{competition}/{year_dir}')\n",
    "    if competition in leagues[:-2]:\n",
    "        df = df[['HomeTeam', 'AwayTeam', 'FTHG', 'FTAG']]\n",
    "    else:\n",
    "        df = df[['HomeTeam', 'AwayTeam', 'FTHG', 'FTAG', 'is_group_stage']]\n",
    "    df = df.dropna()\n",
    "    return df"
   ]
  },
  {
   "cell_type": "markdown",
   "id": "5e2c0429",
   "metadata": {},
   "source": [
    " "
   ]
  },
  {
   "cell_type": "markdown",
   "id": "143a145c",
   "metadata": {},
   "source": [
    "<a id=\"id2\"></a>\n",
    "\n",
    "# Part 2: World Football Elo Ratings\n",
    "\n",
    "[Return to contents](#contents)\n"
   ]
  },
  {
   "cell_type": "markdown",
   "id": "c16d4ccf",
   "metadata": {},
   "source": [
    "<a id=\"id2.1\"></a>\n",
    "\n",
    "## 2.1 The System\n",
    "\n",
    "[Return to contents](#contents)\n",
    "\n",
    "The parameters for this system are based on the World Football Elo Ratings.\n",
    "\n",
    "The system is as follows:\n",
    "\n",
    "After each match, we updating the rating:\n",
    "\n",
    "$\n",
    "R_n = R_0 + K ( W - W_e)\n",
    "$\n",
    "\n",
    "Where $R_n$ is the new rating, $R_0$ is the old rating.\n",
    "\n",
    "$K$ is the weight of the competition. It is $50$ for European competitions, and $30$ for local leagues. $K$ is then adjusted for the goal difference in the game. It is increased by a factor of half if a game is won by two goals, by $3/4$ if a game is won by three goals, and by $3/4 + (N-3)/8$ if the game is won by four or more goals, where $N$ is the goal difference.\n",
    "\n",
    "$W$ is the result of the match, $1$ for a win, $1/2$ for a draw, and $0$ for a loss.\n",
    "\n",
    "$W_e$ is the expected result (win expectancy). It is calculated using the formula:\n",
    "\n",
    "$$\n",
    "W_e = \\frac{1}{1+10^{-dr/400}}\n",
    "$$\n",
    "\n",
    "Where $dr$ is the difference in rating before the match starts, and we add $100$ to it for the home team. \n",
    "\n",
    "Check http://eloratings.net/about for the more details.\n",
    "\n"
   ]
  },
  {
   "cell_type": "markdown",
   "id": "a936bebd",
   "metadata": {},
   "source": [
    "<a id=\"id2.2\"></a>\n",
    "\n",
    "## 2.2 The code for the system\n",
    "\n",
    "[Return to contents](#contents)"
   ]
  },
  {
   "cell_type": "code",
   "execution_count": 7,
   "id": "09d82829",
   "metadata": {},
   "outputs": [],
   "source": [
    "class ELO_WFER():\n",
    "    # Elo system based on http://eloratings.net/about\n",
    "    \n",
    "    def __init__(self):\n",
    "        # Parameters\n",
    "        self.initial_strength = 1500\n",
    "        self.k_ucl = 50\n",
    "        self.k_other = 30\n",
    "        \n",
    "        # Strengths\n",
    "        self.full_strengths = {}\n",
    "        self.league_strengths = {}\n",
    "        \n",
    "        self.leagues = ['england', 'france', 'germany', 'italy', 'netherlands', 'portugal', 'spain', 'ucl', 'europa']\n",
    "        \n",
    "        # Initial strengths\n",
    "        for league in self.leagues:\n",
    "            df = read_data(league, 0)\n",
    "            teams = df.HomeTeam.unique()\n",
    "            cur_strengths = {}\n",
    "            for team in teams:\n",
    "                cur_strengths[team.strip()] = self.initial_strength\n",
    "            self.league_strengths[league] = cur_strengths\n",
    "            self.full_strengths.update(cur_strengths)\n",
    "        return \n",
    "    \n",
    "    def get_team_strength(self, team, competition, year):\n",
    "        \"\"\"\n",
    "            Given a team, return its strength.\n",
    "            If this is a new team promoted to this competition, return the mean\n",
    "            of all the teams that were relegated from this competition. This is\n",
    "            a good initial rating for the new team. \n",
    "        \"\"\"\n",
    "        cur_strengths = self.league_strengths[competition]\n",
    "        # Check if we already have a strength:\n",
    "        if team in cur_strengths.keys():\n",
    "            return cur_strengths[team]\n",
    "        if team in self.full_strengths.keys():\n",
    "            return self.full_strengths[team]\n",
    "        \n",
    "        # Find all the teams that were relegated from this competition\n",
    "        df = read_data(competition, year)\n",
    "        teams_this_year = df.HomeTeam.unique()\n",
    "        missing_teams = [x for x in cur_strengths.keys() if x not in teams_this_year]\n",
    "        # Find their strengths\n",
    "        missing_strengths = [cur_strengths[x] for x in missing_teams]\n",
    "        # Return the mean\n",
    "        return np.mean(missing_strengths)\n",
    "    \n",
    "    def update_team_strength(self, team, competition, new_strength):\n",
    "        \"\"\"\n",
    "            Given a team and its new strength, update the strength dictionaries\n",
    "            with this new value. \n",
    "        \"\"\"\n",
    "        self.full_strengths[team] = new_strength\n",
    "        self.league_strengths[competition][team] = new_strength\n",
    "        for league in self.leagues:\n",
    "            if team in self.league_strengths[league].keys():\n",
    "                self.league_strengths[league][team] = new_strength\n",
    "        return\n",
    "    \n",
    "    @staticmethod\n",
    "    def get_expected_result(home_strength, away_strength, on_home_stadium = 1):\n",
    "        \"\"\"\n",
    "            Given the home and away strengths, and whether the game is on the home stadium\n",
    "            or on a neutral stadium, return the probability of the home team winning. \n",
    "        \"\"\"\n",
    "        strength_difference = home_strength - away_strength + 100 * on_home_stadium\n",
    "        expected_result = 1 / ((10 ** (-strength_difference/400)) + 1)\n",
    "        return expected_result\n",
    "        \n",
    "    \n",
    "    def update_one_match(self, row, competition, year, on_home_stadium = 1):\n",
    "        \"\"\"\n",
    "            Given the data for one match in 'row', update the ratings of the teams involved\n",
    "            based on this match. \n",
    "            Returns the difference between the expected and actual result of this match. \n",
    "        \"\"\"\n",
    "        # Get the data\n",
    "        cur_strengths = self.league_strengths[competition]\n",
    "        home_team = row['HomeTeam'].strip()\n",
    "        away_team = row['AwayTeam'].strip()\n",
    "        home_goals = row['FTHG']\n",
    "        away_goals = row['FTAG']\n",
    "        home_strength = self.get_team_strength(home_team, competition, year)\n",
    "        away_strength = self.get_team_strength(away_team, competition, year)\n",
    "        \n",
    "        # Get the k\n",
    "        if competition == 'ucl' or competition == 'europa':\n",
    "            k = self.k_ucl\n",
    "        else:\n",
    "            k = self.k_other\n",
    "        \n",
    "        # Adjust k based on goal difference\n",
    "        goal_difference = abs(home_goals - away_goals)\n",
    "        if goal_difference > 3.5:\n",
    "            k += (3 / 4 + (goal_difference - 3) / 8) * k\n",
    "        elif goal_difference > 2.5:\n",
    "            k += (3 / 4) * k\n",
    "        elif goal_difference > 1.5:\n",
    "            k += (1 / 2) * k\n",
    "        \n",
    "        # Apply the model\n",
    "        expected_result = self.get_expected_result(home_strength, away_strength, on_home_stadium)\n",
    "        if home_goals > away_goals:\n",
    "            actual_result = 1\n",
    "        elif home_goals < away_goals:\n",
    "            actual_result = 0\n",
    "        else:\n",
    "            actual_result = 0.5\n",
    "        result_difference = actual_result - expected_result\n",
    "        \n",
    "        # New Ratings\n",
    "        home_strength = home_strength + k * result_difference\n",
    "        away_strength = away_strength - k * result_difference\n",
    "        \n",
    "        # Update the ratings\n",
    "        self.update_team_strength(home_team, competition, home_strength)\n",
    "        self.update_team_strength(away_team, competition, away_strength)\n",
    "        \n",
    "        return result_difference"
   ]
  },
  {
   "cell_type": "markdown",
   "id": "0edfc014",
   "metadata": {},
   "source": [
    "<a id=\"id2.3\"></a>\n",
    "## 2.3 Training on the first five seasons\n",
    "\n",
    "[Return to contents](#contents)"
   ]
  },
  {
   "cell_type": "code",
   "execution_count": 8,
   "id": "bf9e926b",
   "metadata": {},
   "outputs": [],
   "source": [
    "elo = ELO_WFER()"
   ]
  },
  {
   "cell_type": "code",
   "execution_count": 9,
   "id": "23bd3d0d",
   "metadata": {},
   "outputs": [
    {
     "name": "stderr",
     "output_type": "stream",
     "text": [
      "100%|██████████| 5/5 [00:03<00:00,  1.49it/s]\n"
     ]
    }
   ],
   "source": [
    "# Train\n",
    "for year in tqdm(range(5)):\n",
    "    for league in leagues:\n",
    "        df = read_data(league, year)\n",
    "        for index, row in df.iterrows():\n",
    "            x = elo.update_one_match(row, league, year)"
   ]
  },
  {
   "cell_type": "markdown",
   "id": "9857f3b0",
   "metadata": {},
   "source": [
    "#### Checking the top teams:\n",
    "\n",
    "Let's look at the teams with the top ten ratings. This is both an interesting result and a sanity check that our ratings makes sense."
   ]
  },
  {
   "cell_type": "code",
   "execution_count": 10,
   "id": "9ba23853",
   "metadata": {},
   "outputs": [],
   "source": [
    "top_teams = [(k, v) for k, v in sorted(elo.full_strengths.items(), key=lambda item: item[1])][-10:]"
   ]
  },
  {
   "cell_type": "code",
   "execution_count": 11,
   "id": "bf0d73a9",
   "metadata": {},
   "outputs": [],
   "source": [
    "top_teams.reverse()"
   ]
  },
  {
   "cell_type": "code",
   "execution_count": 12,
   "id": "6f9471d5",
   "metadata": {},
   "outputs": [
    {
     "data": {
      "text/plain": [
       "[('Barcelona', 2088.451969067935),\n",
       " ('Bayern Munich', 1977.4582780346184),\n",
       " ('Real Madrid', 1971.3515207182147),\n",
       " ('Sevilla', 1942.3549397338927),\n",
       " ('Juventus', 1905.7750728997642),\n",
       " ('Porto', 1883.180242009943),\n",
       " ('Chelsea', 1874.619914925156),\n",
       " ('Ath Madrid', 1848.0326823549387),\n",
       " ('Paris SG', 1828.8409704442029),\n",
       " ('Arsenal', 1817.0029819527754)]"
      ]
     },
     "metadata": {},
     "output_type": "display_data"
    }
   ],
   "source": [
    "display(top_teams)"
   ]
  },
  {
   "cell_type": "markdown",
   "id": "e37d3871",
   "metadata": {},
   "source": [
    "We can see that Barcelona is the team with top rating, which makes sense at the end of the 2015 season, as they had won the treple that year. We also see some other top teams, such as Bayern Munich, Real Madrid, and Juventus. We also see that Sevilla and Porto are in the top ten. While this doesn't seem very accurate, we note that Sevilla won the 2014-2015 Europa League and Porto made it to the top 8 in the Champions league that year, which can explain these results. "
   ]
  },
  {
   "cell_type": "markdown",
   "id": "b27d9235",
   "metadata": {},
   "source": [
    "<a id=\"id2.4\"></a>\n",
    "\n",
    "## 2.4 Recording for the next five seasons\n",
    "\n",
    "[Return to contents](#contents)\n",
    "\n",
    "When working with these seasons, we still update the elo ratings with the match results, but we also record the difference between the expected outcome and the actual outcome for each match. We only record these for some teams, including Real Madrid. We also separately record the matches of the knockout stages of the UEFA Champions League and UEFA Europe League, and the rest of the matches. "
   ]
  },
  {
   "cell_type": "code",
   "execution_count": 13,
   "id": "8330b070",
   "metadata": {},
   "outputs": [],
   "source": [
    "vip_team = 'Real Madrid'\n",
    "max_rating = elo.full_strengths[vip_team]\n",
    "league_changes = []\n",
    "ucl_changes = []"
   ]
  },
  {
   "cell_type": "code",
   "execution_count": 14,
   "id": "c9ace8bb",
   "metadata": {},
   "outputs": [
    {
     "name": "stderr",
     "output_type": "stream",
     "text": [
      "100%|██████████| 5/5 [00:02<00:00,  1.90it/s]\n"
     ]
    }
   ],
   "source": [
    "for year in tqdm(range(5,10)):\n",
    "    for league in leagues:\n",
    "        df = read_data(league, year)\n",
    "        for index, row in df.iterrows():\n",
    "            # Update\n",
    "            x = elo.update_one_match(row, league, year)\n",
    "            \n",
    "            # Track\n",
    "            if row['HomeTeam'] == vip_team:\n",
    "                if league == 'ucl' and not row['is_group_stage']:\n",
    "                    ucl_changes.append(x)\n",
    "                else:\n",
    "                    league_changes.append(x)\n",
    "                max_rating = max(max_rating, elo.full_strengths[vip_team])\n",
    "            if row['AwayTeam'] == vip_team:\n",
    "                if league == 'ucl' and not row['is_group_stage']:\n",
    "                    ucl_changes.append(-x)\n",
    "                else:\n",
    "                    league_changes.append(-x)\n",
    "                max_rating = max(max_rating, elo.full_strengths[vip_team])"
   ]
  },
  {
   "cell_type": "code",
   "execution_count": 15,
   "id": "8052d20c",
   "metadata": {},
   "outputs": [
    {
     "name": "stdout",
     "output_type": "stream",
     "text": [
      "The number of matches recorded in UCL knockout stages for Real Madrid is 25\n",
      "The number of other matches recorded Real Madrid is 220\n"
     ]
    }
   ],
   "source": [
    "print(f\"The number of matches recorded in UCL knockout stages for Real Madrid is {len(ucl_changes)}\")\n",
    "print(f\"The number of other matches recorded Real Madrid is {len(league_changes)}\")"
   ]
  },
  {
   "cell_type": "code",
   "execution_count": 16,
   "id": "8a4cb2fc",
   "metadata": {},
   "outputs": [
    {
     "name": "stdout",
     "output_type": "stream",
     "text": [
      "The top rating for Real Madrid during the last five seasons was 2133.71\n"
     ]
    }
   ],
   "source": [
    "print(f\"The top rating for Real Madrid during the last five seasons was {max_rating:0.2f}\")"
   ]
  },
  {
   "cell_type": "code",
   "execution_count": 17,
   "id": "be2d586f",
   "metadata": {},
   "outputs": [
    {
     "name": "stdout",
     "output_type": "stream",
     "text": [
      "The mean of changes for the UCL knockouts is 0.083\n",
      "The mean of changes for the other matches is -0.061\n",
      "The difference between those two is 0.144\n"
     ]
    }
   ],
   "source": [
    "mean_difference = np.mean(ucl_changes) - np.mean(league_changes)\n",
    "print(f\"The mean of changes for the UCL knockouts is {np.mean(ucl_changes):0.3f}\")\n",
    "print(f\"The mean of changes for the other matches is {np.mean(league_changes):0.3f}\")\n",
    "print(f\"The difference between those two is {mean_difference:0.3f}\")"
   ]
  },
  {
   "cell_type": "markdown",
   "id": "afb8ad0c",
   "metadata": {},
   "source": [
    "#### Checking the Top Teams:\n",
    "\n",
    "We check the top ten teams again for sanity checking. "
   ]
  },
  {
   "cell_type": "code",
   "execution_count": 18,
   "id": "cc930322",
   "metadata": {},
   "outputs": [],
   "source": [
    "top_teams = [(k, v) for k, v in sorted(elo.full_strengths.items(), key=lambda item: item[1])][-10:]"
   ]
  },
  {
   "cell_type": "code",
   "execution_count": 19,
   "id": "c6ce96f4",
   "metadata": {},
   "outputs": [],
   "source": [
    "top_teams.reverse()"
   ]
  },
  {
   "cell_type": "code",
   "execution_count": 20,
   "id": "f5ea3f37",
   "metadata": {},
   "outputs": [
    {
     "data": {
      "text/plain": [
       "[('Bayern Munich', 2110.451258615722),\n",
       " ('Paris SG', 1959.795875078668),\n",
       " ('Man City', 1904.671213191514),\n",
       " ('Liverpool', 1894.3744163110498),\n",
       " ('Barcelona', 1888.4292978313865),\n",
       " ('Borussia Dortmund', 1850.1283663925271),\n",
       " ('Inter', 1843.3798367645627),\n",
       " ('Sevilla', 1839.7569707191803),\n",
       " ('Real Madrid', 1829.146144565307),\n",
       " ('Ath Madrid', 1827.137740891309)]"
      ]
     },
     "metadata": {},
     "output_type": "display_data"
    }
   ],
   "source": [
    "display(top_teams)"
   ]
  },
  {
   "cell_type": "markdown",
   "id": "6d0f73af",
   "metadata": {},
   "source": [
    "<a id=\"id3\"></a>\n",
    "# Part 3: Hypothesis Testing\n",
    "\n",
    "[Return to contents](#contents)\n",
    "\n",
    "Now we have two sets of samples, the differences in the matches of La Liga, stored in `league_changes`, and the differences in the matches of UCL, stored in `ucl_changes`. We hypothsis that these two sets come from the same distribution and perform a one sided hypothsis test to prove that our assumption is wrong. If it turns out that the hypothsis is wrong, we can say that it is very unlikely that Real Madrid won the three UCL by simple luck or randominess. "
   ]
  },
  {
   "cell_type": "markdown",
   "id": "216fe6aa",
   "metadata": {},
   "source": [
    "<a id=\"id3.1\"></a>\n",
    "## 3.1 Performing a t-test\n",
    "\n",
    "[Return to contents](#contents)\n",
    "\n",
    "Here, we perform a t-test on the two distributions."
   ]
  },
  {
   "cell_type": "code",
   "execution_count": 21,
   "id": "c8c0f4f6",
   "metadata": {},
   "outputs": [
    {
     "name": "stdout",
     "output_type": "stream",
     "text": [
      "The mean of the difference between expectation and reality for the UCL matches is 0.083\n",
      "The mean of the difference between expectation and reality for the other matches is -0.061\n"
     ]
    }
   ],
   "source": [
    "# Print the mean of each list\n",
    "print(f\"The mean of the difference between expectation and reality for the UCL matches is {np.mean(ucl_changes):0.3f}\")\n",
    "print(f\"The mean of the difference between expectation and reality for the other matches is {np.mean(league_changes):0.3f}\")"
   ]
  },
  {
   "cell_type": "code",
   "execution_count": 22,
   "id": "af725c47",
   "metadata": {},
   "outputs": [
    {
     "name": "stdout",
     "output_type": "stream",
     "text": [
      "The p-value for the t-test is 0.0323\n"
     ]
    }
   ],
   "source": [
    "p = stats.ttest_ind(ucl_changes, league_changes, alternative = 'greater')[1]\n",
    "print(f\"The p-value for the t-test is {p:0.4f}\")"
   ]
  },
  {
   "cell_type": "markdown",
   "id": "05307f88",
   "metadata": {},
   "source": [
    "We can see that the test gives a p-value of $0.0323$. "
   ]
  },
  {
   "cell_type": "markdown",
   "id": "f7867673",
   "metadata": {},
   "source": [
    "<a id=\"id3.2\"></a>\n",
    "## 3.2 Performing a permutation test\n",
    "\n",
    "\n",
    "[Return to contents](#contents)\n",
    "\n",
    "While the t-test shows a significant difference, we are worried that the p-value is very close to $0.05$ and the test could be too sensitive. So here, we do a permutation test. For a big number of times, we relabel the data and find the difference in the means of the two groups, and see how many times it is less or greater than the difference we found on the real data. \n",
    "\n",
    "In addition to giving us a p-value, this test also gives us a full distribution of the differences between the mean of the UCL changes and the league changes. "
   ]
  },
  {
   "cell_type": "code",
   "execution_count": 23,
   "id": "2c40532c",
   "metadata": {},
   "outputs": [],
   "source": [
    "all_matches = ucl_changes + league_changes\n",
    "n_ucl_matches = len(ucl_changes)"
   ]
  },
  {
   "cell_type": "code",
   "execution_count": 24,
   "id": "cfec926d",
   "metadata": {},
   "outputs": [
    {
     "name": "stderr",
     "output_type": "stream",
     "text": [
      "100%|██████████| 1000000/1000000 [00:39<00:00, 25145.04it/s]\n"
     ]
    }
   ],
   "source": [
    "n_iterations = 1000000\n",
    "n_bigger_difference = 0\n",
    "differences = []\n",
    "np.random.seed(143)\n",
    "for _ in tqdm(range(n_iterations)):\n",
    "    np.random.shuffle(all_matches)\n",
    "    cur_ucl_changes = all_matches[:n_ucl_matches]\n",
    "    cur_league_changes = all_matches[n_ucl_matches:]\n",
    "    cur_difference = np.mean(cur_ucl_changes) - np.mean(cur_league_changes)\n",
    "    differences.append(cur_difference)\n",
    "    if cur_difference > mean_difference:\n",
    "        n_bigger_difference += 1"
   ]
  },
  {
   "cell_type": "code",
   "execution_count": 25,
   "id": "1440d4cd",
   "metadata": {},
   "outputs": [
    {
     "name": "stdout",
     "output_type": "stream",
     "text": [
      "In 28162 number of iterations, the random difference was more than the real difference\n",
      "This gives a p-value of 0.028162\n"
     ]
    }
   ],
   "source": [
    "print(f\"In {n_bigger_difference} number of iterations, the random difference was more than the real difference\")\n",
    "print(f\"This gives a p-value of {n_bigger_difference / n_iterations}\")"
   ]
  },
  {
   "cell_type": "code",
   "execution_count": 26,
   "id": "31bcf429",
   "metadata": {},
   "outputs": [
    {
     "data": {
      "text/plain": [
       "<matplotlib.legend.Legend at 0x2480d2f8548>"
      ]
     },
     "execution_count": 26,
     "metadata": {},
     "output_type": "execute_result"
    },
    {
     "data": {
      "image/png": "[encoded data removed]",
      "text/plain": [
       "<Figure size 720x504 with 1 Axes>"
      ]
     },
     "metadata": {
      "needs_background": "light"
     },
     "output_type": "display_data"
    }
   ],
   "source": [
    "plt.figure(figsize=(10, 7))\n",
    "plt.hist(differences, alpha = 0.6, bins = 20, density = True, label = 'differences')\n",
    "plt.title(\"The distribution of the differences between the mean of the UCL matches and other matches for relabeled data\",\n",
    "         y = 1.1, fontsize = 13)\n",
    "perc = np.percentile(differences, 95)\n",
    "plt.vlines(perc, 0, 5, color = 'red', label = '95 percentile')\n",
    "plt.vlines(mean_difference, 0, 5, color = 'green', label = 'observed difference')\n",
    "plt.xlabel(\"Mean(UCL changes) - Mean(Other changes)\")\n",
    "plt.ylabel(\"Density\")\n",
    "plt.legend()"
   ]
  },
  {
   "cell_type": "markdown",
   "id": "29d78ae5",
   "metadata": {},
   "source": []
  },
  {
   "cell_type": "markdown",
   "id": "502bf393",
   "metadata": {},
   "source": [
    "For this test, we get a p-value of $0.028$, which is again significant. "
   ]
  },
  {
   "cell_type": "code",
   "execution_count": 27,
   "id": "c8ab0c63",
   "metadata": {},
   "outputs": [
    {
     "data": {
      "text/plain": [
       "0.1439847826053451"
      ]
     },
     "execution_count": 27,
     "metadata": {},
     "output_type": "execute_result"
    }
   ],
   "source": [
    "mean_difference"
   ]
  },
  {
   "cell_type": "code",
   "execution_count": null,
   "id": "74d3ef03",
   "metadata": {},
   "outputs": [],
   "source": []
  }
 ],
 "metadata": {
  "kernelspec": {
   "display_name": "Python 3",
   "language": "python",
   "name": "python3"
  },
  "language_info": {
   "codemirror_mode": {
    "name": "ipython",
    "version": 3
   },
   "file_extension": ".py",
   "mimetype": "text/x-python",
   "name": "python",
   "nbconvert_exporter": "python",
   "pygments_lexer": "ipython3",
   "version": "3.7.10"
  }
 },
 "nbformat": 4,
 "nbformat_minor": 5
}
